{
 "cells": [
  {
   "cell_type": "code",
   "execution_count": 1,
   "metadata": {},
   "outputs": [],
   "source": [
    "from  __future__  import print_function, division, absolute_import\n",
    "from six.moves import cPickle as pickle"
   ]
  },
  {
   "cell_type": "code",
   "execution_count": 2,
   "metadata": {},
   "outputs": [
    {
     "name": "stderr",
     "output_type": "stream",
     "text": [
      "/usr/local/lib/python3.5/dist-packages/h5py/__init__.py:36: FutureWarning: Conversion of the second argument of issubdtype from `float` to `np.floating` is deprecated. In future, it will be treated as `np.float64 == np.dtype(float).type`.\n",
      "  from ._conv import register_converters as _register_converters\n"
     ]
    }
   ],
   "source": [
    "import os, time, ast\n",
    "\n",
    "import numpy as np\n",
    "\n",
    "import cv2, imutils\n",
    "import tensorflow as tf"
   ]
  },
  {
   "cell_type": "code",
   "execution_count": 3,
   "metadata": {},
   "outputs": [],
   "source": [
    "from matplotlib import pyplot as plt\n",
    "%matplotlib inline"
   ]
  },
  {
   "cell_type": "markdown",
   "metadata": {},
   "source": [
    "### Model\n",
    "<img src=\"misc/misc1.png\">\n",
    "<img src=\"misc/misc2.png\">\n",
    "<p hidden>\n",
    "### Classification\n",
    "| Layer | kernel | stride | output | shape |\n",
    "|-------|-------|-------|-------|-------|\n",
    "|Input       |    |   |            |(1080, 1920, 3)|\n",
    "|Convolution|    3×3 |     1      |(1080, 1920, 16)|\n",
    "|MaxPooling |    3×4  |    2      |(360, 480, 16)|\n",
    "|Convolution |   3×3   |   1      |(360, 480, 32)|\n",
    "|MaxPooling   |  3×4    |  2      |(120, 120, 32)|\n",
    "|Convolution   | 3×3     | 1      |(120, 120, 64)|\n",
    "|MaxPooling |    2×2      |2      |(60, 60, 64)|\n",
    "|Convolution |   3×3      |1      |(60, 60, 128)|\n",
    "|MaxPooling   |  2×2|      2      |(30, 30, 128)|\n",
    "|Convolution   | 3×3 |     1      |(30, 30, 256)|\n",
    "|MaxPooling  |   2×2  |    2      |(15, 15, 256)|\n",
    "|Convolution  |  3×3   |   1      |(15, 15, 512)|\n",
    "|MaxPooling    | 2×2    |  1      |(15, 15, 512)|\n",
    "|Convolution|    3×3     | 1      |(15, 15, 1024)|\n",
    "|Convolution |   3×3      |1      |(15, 15, 1024)|\n",
    "|Convolution  |  1×1      |1      |(15, 15, 125)|</p>"
   ]
  },
  {
   "cell_type": "code",
   "execution_count": 4,
   "metadata": {},
   "outputs": [],
   "source": [
    "def reset_graph(seed=42):\n",
    "    tf.reset_default_graph()\n",
    "    tf.set_random_seed(seed)\n",
    "    np.random.seed(seed)\n"
   ]
  },
  {
   "cell_type": "markdown",
   "metadata": {},
   "source": [
    "### Loading the data"
   ]
  },
  {
   "cell_type": "code",
   "execution_count": 5,
   "metadata": {},
   "outputs": [],
   "source": [
    "get_bounding_box_params = lambda text: ast.literal_eval(\"(\"+text.split(\"(\")[1].split(\")\")[0]+\")\")"
   ]
  },
  {
   "cell_type": "code",
   "execution_count": 6,
   "metadata": {},
   "outputs": [],
   "source": [
    "def generate_batch(batch_size=128, vids_path=\"Data/Videos\", annots_path=\"Data/Video_Annotation\", w=100, h=100):\n",
    "    frames = []\n",
    "    labels = []\n",
    "    bb_params = []\n",
    "    vids = os.listdir(vids_path)\n",
    "    explored_vids = {}  # vid_path: number of un-explored frames, or True flag that it has been explored\n",
    "    while sum([v is True for v in explored_vids.values()]) < len(vids):\n",
    "        v = np.random.choice(vids)  # pick a video\n",
    "        vid_path = os.path.join(vids_path, v)\n",
    "        vs = cv2.VideoCapture(vid_path)  # open the video\n",
    "\n",
    "        explored_vids.setdefault(v, 0)\n",
    "        if explored_vids[v] is True:  # check whether all its frames have been explored\n",
    "            continue\n",
    "        annot_filename = os.path.splitext(os.path.basename(vid_path))[0] + \"_gt.txt\"  # get the video annotations\n",
    "        annot_path = os.path.join(annots_path, annot_filename)\n",
    "\n",
    "        frame_no = explored_vids[v]  # explore the current frame\n",
    "        vs.set(1, frame_no)\n",
    "        frame = vs.read()[1]\n",
    "        if frame is None:  # no more frames\n",
    "            explored_vids[v] = True\n",
    "            continue\n",
    "        else:\n",
    "            explored_vids[v] = frame_no + 1  # increment the frame index in that video\n",
    "            H, W = frame.shape[:2]\n",
    "            x_scale = float(W) / w\n",
    "            y_scale = float(H) / h\n",
    "            #                     frame = imutils.resize(frame, width=int(W*scale), height=int(H*scale))\n",
    "            frame = cv2.resize(frame, (w, h))\n",
    "            label = True\n",
    "            with open(annot_path, 'r') as annotations:\n",
    "                for line_i, line in enumerate(annotations):\n",
    "                    if line_i == frame_no:\n",
    "                        try:\n",
    "                            bounding_box_params = get_bounding_box_params(line)\n",
    "                        except IndexError:\n",
    "                            label = False\n",
    "                            bounding_box_params = (0, 0, 0, 0)\n",
    "                        break\n",
    "\n",
    "                x_, y_, w_, h_ = bounding_box_params\n",
    "\n",
    "                bounding_box_params = np.array(\n",
    "                    [int(x_ / x_scale), int(y_ / y_scale), int(w_ / x_scale), int(h_ / y_scale)])\n",
    "                frames.append(frame)\n",
    "                bb_params.append(bounding_box_params)\n",
    "                labels.append(int(label))\n",
    "                if len(labels) == batch_size:\n",
    "                    yield np.array(frames), np.array(bb_params), np.array(labels).reshape(-1, 1)\n",
    "                    frames = []\n",
    "                    labels = []\n",
    "                    bb_params = []"
   ]
  },
  {
   "cell_type": "code",
   "execution_count": 7,
   "metadata": {},
   "outputs": [],
   "source": [
    "def get_annotations(file, annotations_path):\n",
    "    annotation_path = os.path.join(annotations_path, file.split(\".\")[0]+\".txt\")\n",
    "    with open(annotation_path, \"r\") as f:\n",
    "        return ast.literal_eval(f.read())\n",
    "\n",
    "def generate_image_batches(positives_path=\"Data/positives\",\n",
    "                           negatives_path=\"Data/negatives\",\n",
    "                           annotations_path=\"Data/annotations\",\n",
    "                           batch_ratio=0.2, w=100, h=100):\n",
    "    positives = os.listdir(positives_path)\n",
    "    negatives = os.listdir(negatives_path)\n",
    "    batch_size = int(len(positives)*batch_ratio)\n",
    "    read_image = lambda path: cv2.imread(path)\n",
    "    for k in range(1, len(positives)+1, batch_size//2):\n",
    "        positive_files = positives[k: k+batch_size//2]\n",
    "        negative_files = negatives[k: k+batch_size//2]\n",
    "            \n",
    "        labels = [[1, 0]]*len(positive_files) + [[0, 1]]*len(negative_files)\n",
    "#         labels = [1]*len(positive_files) + [0]*len(negative_files)\n",
    "        \n",
    "        positive_imgs = [read_image(os.path.join(positives_path, img)) for img in positive_files]\n",
    "        negative_imgs = [read_image(os.path.join(negatives_path, img)) for img in negative_files]\n",
    "        imgs = positive_imgs + negative_imgs\n",
    "        H, W = imgs[0].shape[:2]\n",
    "        if W != w or H != h:\n",
    "            x_scale = W/float(w)\n",
    "            y_scale = H/float(h)\n",
    "            \n",
    "            imgs = np.array([cv2.resize(img, (w,h)) for img in imgs])\n",
    "            \n",
    "        else:\n",
    "            x_scale = 1\n",
    "            y_scale = 1\n",
    "        annotations = [get_annotations(img, annotations_path)\n",
    "                       for img in positive_files] + [(0,0,0,0)]*len(negative_files)\n",
    "        \n",
    "        batch_imgs = np.array(imgs[:batch_size])\n",
    "        batch_labels = np.array(labels[:batch_size])\n",
    "        batch_annotations = np.array(annotations[:batch_size])\n",
    "        \n",
    "        idxs = np.random.permutation(range(len(batch_imgs)))\n",
    "        \n",
    "        yield batch_imgs[idxs], batch_annotations[idxs], batch_labels[idxs]"
   ]
  },
  {
   "cell_type": "code",
   "execution_count": 8,
   "metadata": {
    "scrolled": false
   },
   "outputs": [
    {
     "name": "stdout",
     "output_type": "stream",
     "text": [
      "WARNING:tensorflow:From <ipython-input-8-b504fa7c18cc>:59: softmax_cross_entropy_with_logits (from tensorflow.python.ops.nn_ops) is deprecated and will be removed in a future version.\n",
      "Instructions for updating:\n",
      "\n",
      "Future major versions of TensorFlow will allow gradients to flow\n",
      "into the labels input on backprop by default.\n",
      "\n",
      "See tf.nn.softmax_cross_entropy_with_logits_v2.\n",
      "\n"
     ]
    }
   ],
   "source": [
    "in_channels  = 3\n",
    "height = 100\n",
    "width = 100\n",
    "out_channels1 = 16\n",
    "out_channels2 = 64\n",
    "out_channels3 = 128\n",
    "out_channels4 = 256\n",
    "\n",
    "graph = tf.Graph()\n",
    "with graph.as_default():\n",
    "    he_init = tf.variance_scaling_initializer()\n",
    "    with tf.name_scope(\"inputs\"):\n",
    "        X = tf.placeholder(tf.float32, shape=[None, height, width, in_channels], name=\"X\")\n",
    "        y = tf.placeholder(tf.float32, shape=[None, 2], name=\"y\")\n",
    "        bb_params = tf.placeholder(tf.float32, shape=[None, 4], name=\"bb_params\")\n",
    "        keep_prob = tf.placeholder_with_default(0.5, shape=[], name='keep_prob')\n",
    "        \n",
    "    with tf.name_scope(\"filters\"):\n",
    "        filter1 =  tf.Variable(tf.truncated_normal([3, 3, in_channels, out_channels1]))\n",
    "        filter2 = tf.Variable(tf.truncated_normal([3, 3, out_channels1, out_channels2]))\n",
    "        filter3 = tf.Variable(tf.truncated_normal([3, 3, out_channels2, out_channels3]))\n",
    "        filter4 = tf.Variable(tf.truncated_normal([3, 3, out_channels3, out_channels4]))\n",
    "\n",
    "    with tf.name_scope(\"Layers\"):\n",
    "\n",
    "        conv1 = tf.nn.conv2d(X, filter1, [1,2,2,1], \"SAME\", name=\"CONV1\", )\n",
    "        conv1 = tf.nn.dropout(tf.nn.relu(conv1), keep_prob=keep_prob)\n",
    "\n",
    "        pool1 = tf.nn.pool(conv1, [3,3], \"MAX\", \"SAME\", name=\"pool1\")\n",
    "\n",
    "        conv2 = tf.nn.conv2d(pool1, filter2, [1,2,2,1], \"SAME\", name=\"CONV2\")\n",
    "        conv2 = tf.nn.dropout(tf.nn.relu(conv2), keep_prob=keep_prob)\n",
    "\n",
    "        pool2 = tf.nn.pool(conv2, [3,3], \"MAX\", \"SAME\", name=\"pool2\")\n",
    "\n",
    "        conv3 = tf.nn.conv2d(pool2, filter3, [1,2,2,1], \"SAME\", name=\"CONV3\")\n",
    "        conv3 = tf.nn.dropout(tf.nn.relu(conv3), keep_prob=keep_prob)\n",
    "\n",
    "        pool3 = tf.nn.pool(conv3, [3,3], \"MAX\", \"SAME\", name=\"pool3\")\n",
    "\n",
    "        conv4 = tf.nn.conv2d(pool3, filter4, [1,2,2,1], \"SAME\", name=\"CONV4\")\n",
    "        conv4 = tf.nn.dropout(tf.nn.relu(conv4), keep_prob=keep_prob)\n",
    "\n",
    "        pool4 = tf.nn.pool(conv4, [3,3], \"MAX\", \"SAME\", name=\"pool4\")\n",
    "\n",
    "        output_layer = tf.layers.Flatten()(pool4)\n",
    "\n",
    "    with tf.name_scope(\"FC_layers\"):\n",
    "        \n",
    "        fc1 = tf.layers.dense(output_layer, 64, name=\"fc1\", activation=tf.nn.relu, kernel_initializer=he_init)\n",
    "        fc2 = tf.layers.dense(output_layer, 64, name=\"fc2\", activation=tf.nn.relu, kernel_initializer=he_init)\n",
    "    \n",
    "    with tf.name_scope(\"Logits\"):\n",
    "        bb_logits = tf.layers.dense(fc1, 4, name=\"bb_logits\", activation=tf.nn.relu)\n",
    "        y_logits = tf.layers.dense(fc2, 2, name=\"y_logits\")  # default activation None    \n",
    "    \n",
    "    with tf.name_scope(\"train\"):\n",
    "        mse = tf.losses.mean_squared_error(predictions=bb_logits, labels=bb_params)\n",
    "        xentropy = tf.nn.softmax_cross_entropy_with_logits(labels=y, logits=y_logits)\n",
    "        loss = tf.reduce_mean(xentropy) + tf.reduce_mean(mse)\n",
    "        loss = tf.reduce_mean(xentropy)\n",
    "        optimizer = tf.train.AdamOptimizer()\n",
    "        training_op = optimizer.minimize(loss)\n",
    "\n",
    "    with tf.name_scope(\"eval\"):\n",
    "        predictions = tf.cast(tf.greater(y_logits, 0.5), tf.float32)\n",
    "        correct = tf.equal(predictions, y)\n",
    "        accuracy = tf.reduce_mean(tf.cast(correct, tf.float32))\n",
    "\n",
    "    with tf.name_scope(\"init_and_save\"):\n",
    "        init = tf.global_variables_initializer()\n",
    "        saver = tf.train.Saver()\n"
   ]
  },
  {
   "cell_type": "code",
   "execution_count": 9,
   "metadata": {},
   "outputs": [],
   "source": [
    "def get_model_params():\n",
    "    gvars = tf.get_collection(tf.GraphKeys.GLOBAL_VARIABLES)\n",
    "    return {gvar.op.name: value for gvar, value in zip(gvars, tf.get_default_session().run(gvars))}\n",
    "\n",
    "def restore_model_params(model_params):\n",
    "    gvar_names = list(model_params.keys())\n",
    "    assign_ops = {gvar_name: tf.get_default_graph().get_operation_by_name(gvar_name + \"/Assign\")\n",
    "                  for gvar_name in gvar_names}\n",
    "    init_values = {gvar_name: assign_op.inputs[1] for gvar_name, assign_op in assign_ops.items()}\n",
    "    feed_dict = {init_values[gvar_name]: model_params[gvar_name] for gvar_name in gvar_names}\n",
    "    tf.get_default_session().run(assign_ops, feed_dict=feed_dict)"
   ]
  },
  {
   "cell_type": "markdown",
   "metadata": {},
   "source": [
    "### Training"
   ]
  },
  {
   "cell_type": "code",
   "execution_count": 10,
   "metadata": {},
   "outputs": [],
   "source": [
    "epochs = 100\n",
    "display_step = 13"
   ]
  },
  {
   "cell_type": "code",
   "execution_count": 11,
   "metadata": {
    "scrolled": false
   },
   "outputs": [
    {
     "name": "stdout",
     "output_type": "stream",
     "text": [
      "Epoch 1:\tBatch: 2\tAccuracy: 0.5\tLoss: 2,923,178.0\n",
      "Epoch 2:\tBatch: 5\tAccuracy: 0.5\tLoss: 14,600,588.0\n",
      "Epoch 3:\tBatch: 8\tAccuracy: 0.5\tLoss: 55,690,316.0\n",
      "Epoch 5:\tBatch: 1\tAccuracy: 0.5\tLoss: 21,406,656.0\n",
      "Epoch 6:\tBatch: 4\tAccuracy: 0.5\tLoss: 40,372,632.0\n",
      "Epoch 7:\tBatch: 7\tAccuracy: 0.5\tLoss: 27,088,414.0\n",
      "Epoch 9:\tBatch: 0\tAccuracy: 0.5\tLoss: 18,665,112.0\n",
      "Epoch 10:\tBatch: 3\tAccuracy: 0.5\tLoss: 11,871,611.0\n",
      "Epoch 11:\tBatch: 6\tAccuracy: 0.5\tLoss: 24,348,112.0\n",
      "Epoch 12:\tBatch: 9\tAccuracy: 0.5\tLoss: 10,478,036.0\n",
      "Epoch 14:\tBatch: 2\tAccuracy: 0.5\tLoss: 11,763,644.0\n",
      "Epoch 15:\tBatch: 5\tAccuracy: 0.5\tLoss: 7,599,492.0\n",
      "Epoch 16:\tBatch: 8\tAccuracy: 0.5\tLoss: 37,853,208.0\n",
      "Epoch 18:\tBatch: 1\tAccuracy: 0.5\tLoss: 3,085,796.5\n",
      "Epoch 19:\tBatch: 4\tAccuracy: 0.5\tLoss: 20,319,860.0\n",
      "Epoch 20:\tBatch: 7\tAccuracy: 0.5\tLoss: 13,833,893.0\n",
      "Epoch 22:\tBatch: 0\tAccuracy: 0.5\tLoss: 10,640,537.0\n",
      "Epoch 23:\tBatch: 3\tAccuracy: 0.5\tLoss: 6,584,550.5\n",
      "Epoch 24:\tBatch: 6\tAccuracy: 0.5\tLoss: 4,781,873.5\n",
      "Epoch 25:\tBatch: 9\tAccuracy: 0.5\tLoss: 11,838,554.0\n",
      "Epoch 27:\tBatch: 2\tAccuracy: 0.5\tLoss: 32,942,106.0\n",
      "Epoch 28:\tBatch: 5\tAccuracy: 0.5\tLoss: 5,215,798.0\n",
      "Epoch 29:\tBatch: 8\tAccuracy: 0.5\tLoss: 11,680,456.0\n",
      "Epoch 31:\tBatch: 1\tAccuracy: 0.5\tLoss: 27,896,054.0\n",
      "Epoch 32:\tBatch: 4\tAccuracy: 0.5\tLoss: 9,817,661.0\n",
      "Epoch 33:\tBatch: 7\tAccuracy: 0.5\tLoss: 20,945,868.0\n",
      "Epoch 35:\tBatch: 0\tAccuracy: 0.5\tLoss: 16,426,552.0\n",
      "Epoch 36:\tBatch: 3\tAccuracy: 0.5\tLoss: 4,564,769.0\n",
      "Epoch 37:\tBatch: 6\tAccuracy: 0.5\tLoss: 12,180,093.0\n",
      "Epoch 38:\tBatch: 9\tAccuracy: 0.5\tLoss: 13,562,787.0\n",
      "Epoch 40:\tBatch: 2\tAccuracy: 0.5\tLoss: 32,063,384.0\n",
      "Epoch 41:\tBatch: 5\tAccuracy: 0.5\tLoss: 7,405,551.5\n",
      "Epoch 42:\tBatch: 8\tAccuracy: 0.5\tLoss: 7,123,092.0\n",
      "Epoch 44:\tBatch: 1\tAccuracy: 0.5\tLoss: 14,821,614.0\n",
      "Epoch 45:\tBatch: 4\tAccuracy: 0.5\tLoss: 5,941,111.5\n",
      "Epoch 46:\tBatch: 7\tAccuracy: 0.5\tLoss: 15,042,051.0\n",
      "Epoch 48:\tBatch: 0\tAccuracy: 0.5\tLoss: 5,519,284.5\n",
      "Epoch 49:\tBatch: 3\tAccuracy: 0.5\tLoss: 16,418,385.0\n",
      "Epoch 50:\tBatch: 6\tAccuracy: 0.5\tLoss: 47,433,448.0\n",
      "Epoch 51:\tBatch: 9\tAccuracy: 0.5\tLoss: 3,938,028.75\n",
      "Epoch 53:\tBatch: 2\tAccuracy: 0.5\tLoss: 5,687,048.5\n",
      "Epoch 54:\tBatch: 5\tAccuracy: 0.5\tLoss: 20,290,694.0\n",
      "Epoch 55:\tBatch: 8\tAccuracy: 0.5\tLoss: 6,606,291.0\n",
      "Epoch 57:\tBatch: 1\tAccuracy: 0.5\tLoss: 3,774,874.25\n",
      "Epoch 58:\tBatch: 4\tAccuracy: 0.5\tLoss: 21,058,428.0\n",
      "Epoch 59:\tBatch: 7\tAccuracy: 0.5\tLoss: 57,762,036.0\n",
      "Epoch 61:\tBatch: 0\tAccuracy: 0.5\tLoss: 3,243,225.0\n",
      "Epoch 62:\tBatch: 3\tAccuracy: 0.5\tLoss: 23,112,374.0\n",
      "Epoch 63:\tBatch: 6\tAccuracy: 0.5\tLoss: 10,447,837.0\n",
      "Epoch 64:\tBatch: 9\tAccuracy: 0.5\tLoss: 12,928,541.0\n",
      "Epoch 66:\tBatch: 2\tAccuracy: 0.5\tLoss: 6,577,821.5\n",
      "Epoch 67:\tBatch: 5\tAccuracy: 0.5\tLoss: 7,010,694.0\n",
      "Epoch 68:\tBatch: 8\tAccuracy: 0.5\tLoss: 3,002,315.0\n",
      "Epoch 70:\tBatch: 1\tAccuracy: 0.5\tLoss: 28,525,312.0\n",
      "Epoch 71:\tBatch: 4\tAccuracy: 0.5\tLoss: 50,243,088.0\n",
      "Epoch 72:\tBatch: 7\tAccuracy: 0.5\tLoss: 25,892,500.0\n",
      "Epoch 74:\tBatch: 0\tAccuracy: 0.5\tLoss: 5,032,901.0\n",
      "Epoch 75:\tBatch: 3\tAccuracy: 0.5\tLoss: 5,859,344.5\n",
      "Epoch 76:\tBatch: 6\tAccuracy: 0.5\tLoss: 16,747,588.0\n",
      "Epoch 77:\tBatch: 9\tAccuracy: 0.5\tLoss: 9,616,959.0\n",
      "Epoch 79:\tBatch: 2\tAccuracy: 0.5\tLoss: 36,417,048.0\n",
      "Epoch 80:\tBatch: 5\tAccuracy: 0.5\tLoss: 4,637,143.5\n",
      "Epoch 81:\tBatch: 8\tAccuracy: 0.5\tLoss: 27,967,710.0\n",
      "Epoch 83:\tBatch: 1\tAccuracy: 0.5\tLoss: 3,475,912.0\n",
      "Epoch 84:\tBatch: 4\tAccuracy: 0.5\tLoss: 7,920,829.0\n",
      "Epoch 85:\tBatch: 7\tAccuracy: 0.5\tLoss: 8,045,544.5\n",
      "Epoch 87:\tBatch: 0\tAccuracy: 0.5\tLoss: 5,072,581.5\n",
      "Epoch 88:\tBatch: 3\tAccuracy: 0.5\tLoss: 6,600,348.0\n",
      "Epoch 89:\tBatch: 6\tAccuracy: 0.5\tLoss: 2,104,610.0\n",
      "Epoch 90:\tBatch: 9\tAccuracy: 0.5\tLoss: 9,148,985.0\n",
      "Epoch 92:\tBatch: 2\tAccuracy: 0.5\tLoss: 12,378,249.0\n",
      "Epoch 93:\tBatch: 5\tAccuracy: 0.5\tLoss: 10,749,373.0\n",
      "Epoch 94:\tBatch: 8\tAccuracy: 0.5\tLoss: 25,750,138.0\n",
      "Epoch 96:\tBatch: 1\tAccuracy: 0.5\tLoss: 20,260,240.0\n",
      "Epoch 97:\tBatch: 4\tAccuracy: 0.5\tLoss: 34,671,212.0\n",
      "Epoch 98:\tBatch: 7\tAccuracy: 0.5\tLoss: 5,532,733.0\n"
     ]
    }
   ],
   "source": [
    "losses = []\n",
    "mses = []\n",
    "accs = []\n",
    "with tf.Session(graph=graph) as sess:\n",
    "    counter = 0\n",
    "    for epoch_i in range(epochs):\n",
    "        for i, (x_batch, bb_params_batch, y_batch) in enumerate(\n",
    "            generate_image_batches(w=width, h=height)):\n",
    "            sess.run(init)\n",
    "            _, mse_val,loss_val= sess.run([training_op, mse, loss], feed_dict={\n",
    "                X:x_batch, bb_params:bb_params_batch, y:y_batch, keep_prob:0.5\n",
    "            })\n",
    "            acc = accuracy.eval(feed_dict={X:x_batch, bb_params:bb_params_batch, y:y_batch, keep_prob:1.0})\n",
    "            counter+=1\n",
    "            if counter % display_step==0:\n",
    "                print(\"Epoch {}:\\tBatch: {:}\\tAccuracy: {:,}\\tLoss: {:,}\".format(\n",
    "                    epoch_i,\n",
    "                    i, acc,\n",
    "                    np.round(loss_val,3)))\n",
    "                losses.append(loss_val)\n",
    "                accs.append(acc)\n",
    "                mses.append(mse_val)\n",
    "    save_path = saver.save(sess, \"./model\")"
   ]
  },
  {
   "cell_type": "code",
   "execution_count": 14,
   "metadata": {},
   "outputs": [
    {
     "data": {
      "text/plain": [
       "[<matplotlib.lines.Line2D at 0x7ff3800a2cf8>]"
      ]
     },
     "execution_count": 14,
     "metadata": {},
     "output_type": "execute_result"
    },
    {
     "data": {
      "image/png": "[encoded data removed]",
      "text/plain": [
       "<matplotlib.figure.Figure at 0x7ff3800cb0f0>"
      ]
     },
     "metadata": {},
     "output_type": "display_data"
    }
   ],
   "source": [
    "plt.plot(losses)"
   ]
  },
  {
   "cell_type": "code",
   "execution_count": 15,
   "metadata": {},
   "outputs": [
    {
     "data": {
      "text/plain": [
       "[<matplotlib.lines.Line2D at 0x7ff380062d68>]"
      ]
     },
     "execution_count": 15,
     "metadata": {},
     "output_type": "execute_result"
    },
    {
     "data": {
      "image/png": "[encoded data removed]",
      "text/plain": [
       "<matplotlib.figure.Figure at 0x7ff380092208>"
      ]
     },
     "metadata": {},
     "output_type": "display_data"
    }
   ],
   "source": [
    "plt.plot(mses)"
   ]
  },
  {
   "cell_type": "code",
   "execution_count": 16,
   "metadata": {},
   "outputs": [
    {
     "data": {
      "text/plain": [
       "[<matplotlib.lines.Line2D at 0x7ff37b0ca748>]"
      ]
     },
     "execution_count": 16,
     "metadata": {},
     "output_type": "execute_result"
    },
    {
     "data": {
      "image/png": "[encoded data removed]",
      "text/plain": [
       "<matplotlib.figure.Figure at 0x7ff3800506d8>"
      ]
     },
     "metadata": {},
     "output_type": "display_data"
    }
   ],
   "source": [
    "plt.plot(accs)"
   ]
  },
  {
   "cell_type": "code",
   "execution_count": null,
   "metadata": {},
   "outputs": [],
   "source": []
  }
 ],
 "metadata": {
  "kernelspec": {
   "display_name": "Python 3",
   "language": "python",
   "name": "python3"
  },
  "language_info": {
   "codemirror_mode": {
    "name": "ipython",
    "version": 3
   },
   "file_extension": ".py",
   "mimetype": "text/x-python",
   "name": "python",
   "nbconvert_exporter": "python",
   "pygments_lexer": "ipython3",
   "version": "3.5.2"
  }
 },
 "nbformat": 4,
 "nbformat_minor": 2
}
